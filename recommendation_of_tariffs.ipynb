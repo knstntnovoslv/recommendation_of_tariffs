{
 "cells": [
  {
   "cell_type": "markdown",
   "metadata": {},
   "source": [
    "# Рекомендация тарифов"
   ]
  },
  {
   "cell_type": "markdown",
   "metadata": {},
   "source": [
    "В вашем распоряжении данные о поведении клиентов, которые уже перешли на эти тарифы (из проекта курса «Статистический анализ данных»). Нужно построить модель для задачи классификации, которая выберет подходящий тариф. Предобработка данных не понадобится — вы её уже сделали.\n",
    "\n",
    "Постройте модель с максимально большим значением *accuracy*. Чтобы сдать проект успешно, нужно довести долю правильных ответов по крайней мере до 0.75. Проверьте *accuracy* на тестовой выборке самостоятельно."
   ]
  },
  {
   "cell_type": "markdown",
   "metadata": {},
   "source": [
    "## Открытие и изучение файла"
   ]
  },
  {
   "cell_type": "code",
   "execution_count": 1,
   "metadata": {},
   "outputs": [],
   "source": [
    "import pandas as pd"
   ]
  },
  {
   "cell_type": "code",
   "execution_count": 2,
   "metadata": {},
   "outputs": [
    {
     "data": {
      "text/html": [
       "<div>\n",
       "<style scoped>\n",
       "    .dataframe tbody tr th:only-of-type {\n",
       "        vertical-align: middle;\n",
       "    }\n",
       "\n",
       "    .dataframe tbody tr th {\n",
       "        vertical-align: top;\n",
       "    }\n",
       "\n",
       "    .dataframe thead th {\n",
       "        text-align: right;\n",
       "    }\n",
       "</style>\n",
       "<table border=\"1\" class=\"dataframe\">\n",
       "  <thead>\n",
       "    <tr style=\"text-align: right;\">\n",
       "      <th></th>\n",
       "      <th>calls</th>\n",
       "      <th>minutes</th>\n",
       "      <th>messages</th>\n",
       "      <th>mb_used</th>\n",
       "      <th>is_ultra</th>\n",
       "    </tr>\n",
       "  </thead>\n",
       "  <tbody>\n",
       "    <tr>\n",
       "      <td>0</td>\n",
       "      <td>40.0</td>\n",
       "      <td>311.90</td>\n",
       "      <td>83.0</td>\n",
       "      <td>19915.42</td>\n",
       "      <td>0</td>\n",
       "    </tr>\n",
       "    <tr>\n",
       "      <td>1</td>\n",
       "      <td>85.0</td>\n",
       "      <td>516.75</td>\n",
       "      <td>56.0</td>\n",
       "      <td>22696.96</td>\n",
       "      <td>0</td>\n",
       "    </tr>\n",
       "    <tr>\n",
       "      <td>2</td>\n",
       "      <td>77.0</td>\n",
       "      <td>467.66</td>\n",
       "      <td>86.0</td>\n",
       "      <td>21060.45</td>\n",
       "      <td>0</td>\n",
       "    </tr>\n",
       "    <tr>\n",
       "      <td>3</td>\n",
       "      <td>106.0</td>\n",
       "      <td>745.53</td>\n",
       "      <td>81.0</td>\n",
       "      <td>8437.39</td>\n",
       "      <td>1</td>\n",
       "    </tr>\n",
       "    <tr>\n",
       "      <td>4</td>\n",
       "      <td>66.0</td>\n",
       "      <td>418.74</td>\n",
       "      <td>1.0</td>\n",
       "      <td>14502.75</td>\n",
       "      <td>0</td>\n",
       "    </tr>\n",
       "    <tr>\n",
       "      <td>...</td>\n",
       "      <td>...</td>\n",
       "      <td>...</td>\n",
       "      <td>...</td>\n",
       "      <td>...</td>\n",
       "      <td>...</td>\n",
       "    </tr>\n",
       "    <tr>\n",
       "      <td>3209</td>\n",
       "      <td>122.0</td>\n",
       "      <td>910.98</td>\n",
       "      <td>20.0</td>\n",
       "      <td>35124.90</td>\n",
       "      <td>1</td>\n",
       "    </tr>\n",
       "    <tr>\n",
       "      <td>3210</td>\n",
       "      <td>25.0</td>\n",
       "      <td>190.36</td>\n",
       "      <td>0.0</td>\n",
       "      <td>3275.61</td>\n",
       "      <td>0</td>\n",
       "    </tr>\n",
       "    <tr>\n",
       "      <td>3211</td>\n",
       "      <td>97.0</td>\n",
       "      <td>634.44</td>\n",
       "      <td>70.0</td>\n",
       "      <td>13974.06</td>\n",
       "      <td>0</td>\n",
       "    </tr>\n",
       "    <tr>\n",
       "      <td>3212</td>\n",
       "      <td>64.0</td>\n",
       "      <td>462.32</td>\n",
       "      <td>90.0</td>\n",
       "      <td>31239.78</td>\n",
       "      <td>0</td>\n",
       "    </tr>\n",
       "    <tr>\n",
       "      <td>3213</td>\n",
       "      <td>80.0</td>\n",
       "      <td>566.09</td>\n",
       "      <td>6.0</td>\n",
       "      <td>29480.52</td>\n",
       "      <td>1</td>\n",
       "    </tr>\n",
       "  </tbody>\n",
       "</table>\n",
       "<p>3214 rows × 5 columns</p>\n",
       "</div>"
      ],
      "text/plain": [
       "      calls  minutes  messages   mb_used  is_ultra\n",
       "0      40.0   311.90      83.0  19915.42         0\n",
       "1      85.0   516.75      56.0  22696.96         0\n",
       "2      77.0   467.66      86.0  21060.45         0\n",
       "3     106.0   745.53      81.0   8437.39         1\n",
       "4      66.0   418.74       1.0  14502.75         0\n",
       "...     ...      ...       ...       ...       ...\n",
       "3209  122.0   910.98      20.0  35124.90         1\n",
       "3210   25.0   190.36       0.0   3275.61         0\n",
       "3211   97.0   634.44      70.0  13974.06         0\n",
       "3212   64.0   462.32      90.0  31239.78         0\n",
       "3213   80.0   566.09       6.0  29480.52         1\n",
       "\n",
       "[3214 rows x 5 columns]"
      ]
     },
     "execution_count": 2,
     "metadata": {},
     "output_type": "execute_result"
    }
   ],
   "source": [
    "df = pd.read_csv('/datasets/users_behavior.csv')\n",
    "df"
   ]
  },
  {
   "cell_type": "code",
   "execution_count": 3,
   "metadata": {},
   "outputs": [
    {
     "name": "stdout",
     "output_type": "stream",
     "text": [
      "<class 'pandas.core.frame.DataFrame'>\n",
      "RangeIndex: 3214 entries, 0 to 3213\n",
      "Data columns (total 5 columns):\n",
      "calls       3214 non-null float64\n",
      "minutes     3214 non-null float64\n",
      "messages    3214 non-null float64\n",
      "mb_used     3214 non-null float64\n",
      "is_ultra    3214 non-null int64\n",
      "dtypes: float64(4), int64(1)\n",
      "memory usage: 125.7 KB\n"
     ]
    }
   ],
   "source": [
    "df.info()"
   ]
  },
  {
   "cell_type": "code",
   "execution_count": 4,
   "metadata": {},
   "outputs": [
    {
     "data": {
      "text/plain": [
       "0    2229\n",
       "1     985\n",
       "Name: is_ultra, dtype: int64"
      ]
     },
     "execution_count": 4,
     "metadata": {},
     "output_type": "execute_result"
    }
   ],
   "source": [
    "df['is_ultra'].value_counts()"
   ]
  },
  {
   "cell_type": "code",
   "execution_count": 5,
   "metadata": {},
   "outputs": [],
   "source": [
    "df['messages'] = df['messages'].astype('int')"
   ]
  },
  {
   "cell_type": "markdown",
   "metadata": {},
   "source": [
    "Данные изучены, все типы корректны, тип данных в столбце messages заменен, так как кол-во сообщений может быть только целочисленным"
   ]
  },
  {
   "cell_type": "code",
   "execution_count": 6,
   "metadata": {},
   "outputs": [
    {
     "data": {
      "text/html": [
       "<div>\n",
       "<style scoped>\n",
       "    .dataframe tbody tr th:only-of-type {\n",
       "        vertical-align: middle;\n",
       "    }\n",
       "\n",
       "    .dataframe tbody tr th {\n",
       "        vertical-align: top;\n",
       "    }\n",
       "\n",
       "    .dataframe thead th {\n",
       "        text-align: right;\n",
       "    }\n",
       "</style>\n",
       "<table border=\"1\" class=\"dataframe\">\n",
       "  <thead>\n",
       "    <tr style=\"text-align: right;\">\n",
       "      <th></th>\n",
       "      <th>calls</th>\n",
       "      <th>minutes</th>\n",
       "      <th>messages</th>\n",
       "      <th>mb_used</th>\n",
       "      <th>is_ultra</th>\n",
       "    </tr>\n",
       "  </thead>\n",
       "  <tbody>\n",
       "    <tr>\n",
       "      <td>calls</td>\n",
       "      <td>1.000000</td>\n",
       "      <td>0.982083</td>\n",
       "      <td>0.177385</td>\n",
       "      <td>0.286442</td>\n",
       "      <td>0.207122</td>\n",
       "    </tr>\n",
       "    <tr>\n",
       "      <td>minutes</td>\n",
       "      <td>0.982083</td>\n",
       "      <td>1.000000</td>\n",
       "      <td>0.173110</td>\n",
       "      <td>0.280967</td>\n",
       "      <td>0.206955</td>\n",
       "    </tr>\n",
       "    <tr>\n",
       "      <td>messages</td>\n",
       "      <td>0.177385</td>\n",
       "      <td>0.173110</td>\n",
       "      <td>1.000000</td>\n",
       "      <td>0.195721</td>\n",
       "      <td>0.203830</td>\n",
       "    </tr>\n",
       "    <tr>\n",
       "      <td>mb_used</td>\n",
       "      <td>0.286442</td>\n",
       "      <td>0.280967</td>\n",
       "      <td>0.195721</td>\n",
       "      <td>1.000000</td>\n",
       "      <td>0.198568</td>\n",
       "    </tr>\n",
       "    <tr>\n",
       "      <td>is_ultra</td>\n",
       "      <td>0.207122</td>\n",
       "      <td>0.206955</td>\n",
       "      <td>0.203830</td>\n",
       "      <td>0.198568</td>\n",
       "      <td>1.000000</td>\n",
       "    </tr>\n",
       "  </tbody>\n",
       "</table>\n",
       "</div>"
      ],
      "text/plain": [
       "             calls   minutes  messages   mb_used  is_ultra\n",
       "calls     1.000000  0.982083  0.177385  0.286442  0.207122\n",
       "minutes   0.982083  1.000000  0.173110  0.280967  0.206955\n",
       "messages  0.177385  0.173110  1.000000  0.195721  0.203830\n",
       "mb_used   0.286442  0.280967  0.195721  1.000000  0.198568\n",
       "is_ultra  0.207122  0.206955  0.203830  0.198568  1.000000"
      ]
     },
     "execution_count": 6,
     "metadata": {},
     "output_type": "execute_result"
    }
   ],
   "source": [
    "df.corr()"
   ]
  },
  {
   "cell_type": "markdown",
   "metadata": {},
   "source": [
    "По матрице корелляции видим, что звонки и минуты мультиколлинеарны"
   ]
  },
  {
   "cell_type": "code",
   "execution_count": 7,
   "metadata": {},
   "outputs": [
    {
     "data": {
      "text/plain": [
       "<matplotlib.axes._subplots.AxesSubplot at 0x7f8d5376be90>"
      ]
     },
     "execution_count": 7,
     "metadata": {},
     "output_type": "execute_result"
    },
    {
     "data": {
      "image/png": "[encoded data removed]",
      "text/plain": [
       "<Figure size 432x288 with 1 Axes>"
      ]
     },
     "metadata": {
      "needs_background": "light"
     },
     "output_type": "display_data"
    }
   ],
   "source": [
    "df.loc[:,['calls', 'minutes']].plot(kind='scatter', x='calls', y='minutes')"
   ]
  },
  {
   "cell_type": "markdown",
   "metadata": {},
   "source": [
    "Исходя из матрицы корелляции и графика можем сделать вывод, что 'minutes' и 'calls' мультиколлинеарны, поэтому для обучения столбец calls можно удалить"
   ]
  },
  {
   "cell_type": "code",
   "execution_count": 8,
   "metadata": {},
   "outputs": [],
   "source": [
    "df = df.drop('calls', axis=1)"
   ]
  },
  {
   "cell_type": "code",
   "execution_count": null,
   "metadata": {},
   "outputs": [],
   "source": []
  },
  {
   "cell_type": "markdown",
   "metadata": {},
   "source": [
    "## Разделение данных на выборки"
   ]
  },
  {
   "cell_type": "code",
   "execution_count": 9,
   "metadata": {},
   "outputs": [],
   "source": [
    "from sklearn.model_selection import train_test_split"
   ]
  },
  {
   "cell_type": "markdown",
   "metadata": {},
   "source": [
    "Разбиваем датасет на выборки в соотношении 3:1:1 "
   ]
  },
  {
   "cell_type": "code",
   "execution_count": 10,
   "metadata": {},
   "outputs": [],
   "source": [
    "train_data, valid_test_data = train_test_split(df, test_size=0.4, random_state=12345)"
   ]
  },
  {
   "cell_type": "code",
   "execution_count": 11,
   "metadata": {},
   "outputs": [
    {
     "data": {
      "text/plain": [
       "(1928, 4)"
      ]
     },
     "execution_count": 11,
     "metadata": {},
     "output_type": "execute_result"
    }
   ],
   "source": [
    "train_data.shape"
   ]
  },
  {
   "cell_type": "code",
   "execution_count": 12,
   "metadata": {},
   "outputs": [
    {
     "data": {
      "text/plain": [
       "(1286, 4)"
      ]
     },
     "execution_count": 12,
     "metadata": {},
     "output_type": "execute_result"
    }
   ],
   "source": [
    "valid_test_data.shape"
   ]
  },
  {
   "cell_type": "code",
   "execution_count": 13,
   "metadata": {},
   "outputs": [],
   "source": [
    "valid_data, test_data = train_test_split(valid_test_data, test_size=0.5, random_state=12345)"
   ]
  },
  {
   "cell_type": "code",
   "execution_count": 14,
   "metadata": {},
   "outputs": [
    {
     "data": {
      "text/plain": [
       "(643, 4)"
      ]
     },
     "execution_count": 14,
     "metadata": {},
     "output_type": "execute_result"
    }
   ],
   "source": [
    "test_data.shape"
   ]
  },
  {
   "cell_type": "code",
   "execution_count": 15,
   "metadata": {},
   "outputs": [
    {
     "data": {
      "text/plain": [
       "3214"
      ]
     },
     "execution_count": 15,
     "metadata": {},
     "output_type": "execute_result"
    }
   ],
   "source": [
    "1928+643+643"
   ]
  },
  {
   "cell_type": "code",
   "execution_count": 16,
   "metadata": {},
   "outputs": [],
   "source": [
    "def target_features(data):\n",
    "    features = data.drop('is_ultra', axis=1)\n",
    "    target = data['is_ultra']\n",
    "    a = (features, target)\n",
    "    return a"
   ]
  },
  {
   "cell_type": "code",
   "execution_count": 17,
   "metadata": {},
   "outputs": [],
   "source": [
    "features_train = target_features(train_data)[0]\n",
    "target_train = target_features(train_data)[1]"
   ]
  },
  {
   "cell_type": "code",
   "execution_count": 18,
   "metadata": {},
   "outputs": [],
   "source": [
    "features_valid = target_features(valid_data)[0]\n",
    "target_valid = target_features(valid_data)[1]"
   ]
  },
  {
   "cell_type": "code",
   "execution_count": 19,
   "metadata": {},
   "outputs": [],
   "source": [
    "features_test = target_features(test_data)[0]\n",
    "target_test = target_features(test_data)[1]"
   ]
  },
  {
   "cell_type": "markdown",
   "metadata": {},
   "source": [
    "Датасет разделен на тестовую, валидационную и тренировочную выборки"
   ]
  },
  {
   "cell_type": "markdown",
   "metadata": {},
   "source": [
    "## Исследование модели"
   ]
  },
  {
   "cell_type": "code",
   "execution_count": 20,
   "metadata": {},
   "outputs": [],
   "source": [
    "from sklearn.tree import DecisionTreeClassifier\n",
    "from sklearn.ensemble import RandomForestClassifier\n",
    "from sklearn.linear_model import LogisticRegression"
   ]
  },
  {
   "cell_type": "markdown",
   "metadata": {},
   "source": [
    "Поиск наилучших гипрепараметров для дерева решений"
   ]
  },
  {
   "cell_type": "code",
   "execution_count": 21,
   "metadata": {},
   "outputs": [
    {
     "name": "stdout",
     "output_type": "stream",
     "text": [
      "Best accuracy: 0.7884914463452566\n",
      "Best depth: 4\n"
     ]
    }
   ],
   "source": [
    "best_result_tree = 0\n",
    "for depth in range(1, 11):\n",
    "    model = DecisionTreeClassifier(random_state=12345, max_depth=depth)\n",
    "    model.fit(features_train, target_train)\n",
    "    result = model.score(features_valid, target_valid)\n",
    "    if result > best_result_tree:\n",
    "        best_model_tree = model\n",
    "        best_result_tree = result\n",
    "        best_depth = depth\n",
    "print('Best accuracy: {}'.format(best_result_tree))\n",
    "print('Best depth: {}'.format(best_depth))"
   ]
  },
  {
   "cell_type": "markdown",
   "metadata": {},
   "source": [
    "Наилучшие результаты и гиперпараметры для дерева решений: Глубина дерева = 4, accuracy = 0.788"
   ]
  },
  {
   "cell_type": "code",
   "execution_count": null,
   "metadata": {},
   "outputs": [],
   "source": []
  },
  {
   "cell_type": "markdown",
   "metadata": {},
   "source": [
    "Поиск наилучших гиперпараметров для случайного леса"
   ]
  },
  {
   "cell_type": "code",
   "execution_count": 22,
   "metadata": {},
   "outputs": [
    {
     "name": "stdout",
     "output_type": "stream",
     "text": [
      "Best accuracy: 0.7962674961119751\n",
      "Best depth: 7\n",
      "Best amount: 9\n"
     ]
    }
   ],
   "source": [
    "best_result_forest = 0\n",
    "for depth in range(1, 11):\n",
    "    for amount in range(2, 11):\n",
    "        model = RandomForestClassifier(random_state = 12345, max_depth=depth, n_estimators=amount)\n",
    "        model.fit(features_train, target_train)\n",
    "        result = model.score(features_valid, target_valid)\n",
    "        if result > best_result_forest:\n",
    "            best_result_forest = result\n",
    "            best_model_forest = model\n",
    "            best_depth=depth\n",
    "            best_amount = amount\n",
    "print('Best accuracy: {}'.format(best_result_forest))\n",
    "print('Best depth: {}'.format(best_depth))\n",
    "print('Best amount: {}'.format(best_amount))"
   ]
  },
  {
   "cell_type": "markdown",
   "metadata": {},
   "source": [
    "Лучшие результаты и гиперпараметры для случайного леса: accuracy = 0.796, глубина=7, количество деревьев = 9"
   ]
  },
  {
   "cell_type": "markdown",
   "metadata": {},
   "source": [
    "Проверка accuracy для логистической регрессии"
   ]
  },
  {
   "cell_type": "code",
   "execution_count": 23,
   "metadata": {},
   "outputs": [
    {
     "name": "stdout",
     "output_type": "stream",
     "text": [
      "Accuracy: 0.7869362363919129\n"
     ]
    },
    {
     "name": "stderr",
     "output_type": "stream",
     "text": [
      "/opt/conda/lib/python3.7/site-packages/sklearn/linear_model/logistic.py:432: FutureWarning: Default solver will be changed to 'lbfgs' in 0.22. Specify a solver to silence this warning.\n",
      "  FutureWarning)\n"
     ]
    }
   ],
   "source": [
    "model_logistic = LogisticRegression(random_state=12345)\n",
    "model_logistic.fit(features_train, target_train)\n",
    "accuracy = model.score(features_valid, target_valid)\n",
    "print('Accuracy: {}'.format(accuracy))"
   ]
  },
  {
   "cell_type": "markdown",
   "metadata": {},
   "source": [
    "По метрике accuracy наилучшей моделью явлется та, которая работает по алгоритму случайный лес, с максимальной глубиной деревьев 8, и максимальным количеством деревьев 8"
   ]
  },
  {
   "cell_type": "markdown",
   "metadata": {},
   "source": [
    "## Проверка модели на тестовой выборке"
   ]
  },
  {
   "cell_type": "code",
   "execution_count": 24,
   "metadata": {},
   "outputs": [
    {
     "data": {
      "text/plain": [
       "0.8040435458786936"
      ]
     },
     "execution_count": 24,
     "metadata": {},
     "output_type": "execute_result"
    }
   ],
   "source": [
    "best_model_forest.score(features_test, target_test)"
   ]
  },
  {
   "cell_type": "code",
   "execution_count": 25,
   "metadata": {},
   "outputs": [
    {
     "data": {
      "text/plain": [
       "0.7807153965785381"
      ]
     },
     "execution_count": 25,
     "metadata": {},
     "output_type": "execute_result"
    }
   ],
   "source": [
    "best_model_tree.score(features_test, target_test)"
   ]
  },
  {
   "cell_type": "code",
   "execution_count": 26,
   "metadata": {},
   "outputs": [
    {
     "data": {
      "text/plain": [
       "0.6982892690513219"
      ]
     },
     "execution_count": 26,
     "metadata": {},
     "output_type": "execute_result"
    }
   ],
   "source": [
    "model_logistic.score(features_test, target_test)"
   ]
  },
  {
   "cell_type": "markdown",
   "metadata": {},
   "source": [
    "Проверка на тестовой выборке показала, что лучшая модель случайного леса самая эффективная"
   ]
  },
  {
   "cell_type": "code",
   "execution_count": null,
   "metadata": {},
   "outputs": [],
   "source": []
  },
  {
   "cell_type": "markdown",
   "metadata": {},
   "source": [
    "## (бонус) Проверка модели на адекватность"
   ]
  },
  {
   "cell_type": "code",
   "execution_count": 27,
   "metadata": {},
   "outputs": [
    {
     "data": {
      "text/plain": [
       "0    2606\n",
       "1     608\n",
       "dtype: int64"
      ]
     },
     "execution_count": 27,
     "metadata": {},
     "output_type": "execute_result"
    }
   ],
   "source": [
    "pd.Series(best_model_forest.predict(df.drop('is_ultra', axis=1))).value_counts()"
   ]
  },
  {
   "cell_type": "markdown",
   "metadata": {},
   "source": [
    "В целом, на исходных данных сохраняется соотношение для тарифов смарт и ультра"
   ]
  },
  {
   "cell_type": "markdown",
   "metadata": {},
   "source": [
    "Честно говоря, я не очень понял, что такое проверка модели на вменяемость, оценка качества была произведена в предыдущем задании, поэтому я решил проверить на исходном датасете, объясните, пожалуйста, что такое проверка на вменяемость"
   ]
  },
  {
   "cell_type": "markdown",
   "metadata": {},
   "source": [
    "Общий вывод: в результате исследования найдена модель, наиболее подходящая для выбора тарифа. Это модель работающая на алгоритме случайного леса, результаты работы этой модели: accuracy(на валидационной выборке) = 0.796, accuracy(на тестовой выборке) = 0.8, результаты метрики почти совпадают, причем они достаточно высокие, это говорит о том, что удалось избежать проблем переобучения и недообучения, гиперпараметры этой модели: максимальная глубина деревьев=7, максимальное количество деревьев=9.\n",
    "Модель сравнивалась и с другими.\n",
    "Среди моделей, работающих на алгоритме решающего дерева, лучшей оказалась та, у которой глубина дерева = 4, accuracy этой модели=0.79(на валидационной выборке) и 0.78(на тестовой выборке). Так же была протестирована модель, работающая на алгоритме логистической регрессии, ее accuracy = 0.79(на валидационной выборке) и 0.69(на тестовой выборке)."
   ]
  },
  {
   "cell_type": "code",
   "execution_count": null,
   "metadata": {},
   "outputs": [],
   "source": []
  },
  {
   "cell_type": "code",
   "execution_count": null,
   "metadata": {},
   "outputs": [],
   "source": []
  }
 ],
 "metadata": {
  "ExecuteTimeLog": [
   {
    "duration": 749,
    "start_time": "2021-10-27T21:19:49.347Z"
   },
   {
    "duration": 45,
    "start_time": "2021-10-27T21:20:43.711Z"
   },
   {
    "duration": 11,
    "start_time": "2021-10-27T21:21:39.718Z"
   },
   {
    "duration": 212,
    "start_time": "2021-10-28T07:58:51.979Z"
   },
   {
    "duration": 529,
    "start_time": "2021-10-28T07:58:57.220Z"
   },
   {
    "duration": 31,
    "start_time": "2021-10-28T07:58:57.751Z"
   },
   {
    "duration": 5,
    "start_time": "2021-10-28T07:58:57.784Z"
   },
   {
    "duration": 4,
    "start_time": "2021-10-28T07:58:57.791Z"
   },
   {
    "duration": 445,
    "start_time": "2021-10-28T08:00:58.416Z"
   },
   {
    "duration": 7,
    "start_time": "2021-10-28T08:04:04.846Z"
   },
   {
    "duration": 4,
    "start_time": "2021-10-28T08:04:05.506Z"
   },
   {
    "duration": 4,
    "start_time": "2021-10-28T08:04:16.901Z"
   },
   {
    "duration": 6,
    "start_time": "2021-10-28T08:05:35.580Z"
   },
   {
    "duration": 5,
    "start_time": "2021-10-28T08:07:41.566Z"
   },
   {
    "duration": 4,
    "start_time": "2021-10-28T08:09:05.904Z"
   },
   {
    "duration": 4,
    "start_time": "2021-10-28T08:09:55.737Z"
   },
   {
    "duration": 3,
    "start_time": "2021-10-28T08:13:21.910Z"
   },
   {
    "duration": 4752,
    "start_time": "2021-10-28T08:13:54.081Z"
   },
   {
    "duration": 3,
    "start_time": "2021-10-28T08:14:50.683Z"
   },
   {
    "duration": 12,
    "start_time": "2021-10-28T08:14:52.789Z"
   },
   {
    "duration": 3,
    "start_time": "2021-10-28T08:15:33.653Z"
   },
   {
    "duration": 351,
    "start_time": "2021-10-28T08:15:35.200Z"
   },
   {
    "duration": 4,
    "start_time": "2021-10-28T08:15:43.817Z"
   },
   {
    "duration": 12,
    "start_time": "2021-10-28T08:15:44.435Z"
   },
   {
    "duration": 7,
    "start_time": "2021-10-28T08:15:50.814Z"
   },
   {
    "duration": 3,
    "start_time": "2021-10-28T08:16:34.173Z"
   },
   {
    "duration": 647,
    "start_time": "2021-10-28T08:16:35.052Z"
   },
   {
    "duration": 3,
    "start_time": "2021-10-28T08:17:22.071Z"
   },
   {
    "duration": 6,
    "start_time": "2021-10-28T08:17:22.941Z"
   },
   {
    "duration": 4,
    "start_time": "2021-10-28T08:21:04.310Z"
   },
   {
    "duration": 5,
    "start_time": "2021-10-28T08:21:53.806Z"
   },
   {
    "duration": 551,
    "start_time": "2021-10-28T08:25:36.584Z"
   },
   {
    "duration": 33,
    "start_time": "2021-10-28T08:25:37.137Z"
   },
   {
    "duration": 6,
    "start_time": "2021-10-28T08:25:37.172Z"
   },
   {
    "duration": 15,
    "start_time": "2021-10-28T08:25:37.180Z"
   },
   {
    "duration": 390,
    "start_time": "2021-10-28T08:25:37.196Z"
   },
   {
    "duration": 5,
    "start_time": "2021-10-28T08:25:37.587Z"
   },
   {
    "duration": 4,
    "start_time": "2021-10-28T08:25:37.594Z"
   },
   {
    "duration": 5,
    "start_time": "2021-10-28T08:25:37.600Z"
   },
   {
    "duration": 5,
    "start_time": "2021-10-28T08:25:37.608Z"
   },
   {
    "duration": 5,
    "start_time": "2021-10-28T08:25:37.614Z"
   },
   {
    "duration": 7,
    "start_time": "2021-10-28T08:25:37.621Z"
   },
   {
    "duration": 5,
    "start_time": "2021-10-28T08:25:37.630Z"
   },
   {
    "duration": 6,
    "start_time": "2021-10-28T08:25:37.637Z"
   },
   {
    "duration": 6,
    "start_time": "2021-10-28T08:25:37.645Z"
   },
   {
    "duration": 564,
    "start_time": "2021-10-28T08:25:46.072Z"
   },
   {
    "duration": 32,
    "start_time": "2021-10-28T08:25:46.638Z"
   },
   {
    "duration": 6,
    "start_time": "2021-10-28T08:25:46.673Z"
   },
   {
    "duration": 11,
    "start_time": "2021-10-28T08:25:46.681Z"
   },
   {
    "duration": 424,
    "start_time": "2021-10-28T08:25:46.694Z"
   },
   {
    "duration": 6,
    "start_time": "2021-10-28T08:25:47.119Z"
   },
   {
    "duration": 8,
    "start_time": "2021-10-28T08:25:47.127Z"
   },
   {
    "duration": 5,
    "start_time": "2021-10-28T08:25:47.137Z"
   },
   {
    "duration": 6,
    "start_time": "2021-10-28T08:25:47.144Z"
   },
   {
    "duration": 4,
    "start_time": "2021-10-28T08:25:47.151Z"
   },
   {
    "duration": 7,
    "start_time": "2021-10-28T08:25:47.156Z"
   },
   {
    "duration": 28,
    "start_time": "2021-10-28T08:25:47.165Z"
   },
   {
    "duration": 4,
    "start_time": "2021-10-28T08:25:47.195Z"
   },
   {
    "duration": 34,
    "start_time": "2021-10-28T08:29:04.299Z"
   },
   {
    "duration": 262,
    "start_time": "2021-10-28T08:34:35.645Z"
   },
   {
    "duration": 51,
    "start_time": "2021-10-28T08:35:31.664Z"
   },
   {
    "duration": 51,
    "start_time": "2021-10-28T08:36:29.626Z"
   },
   {
    "duration": 547,
    "start_time": "2021-10-28T08:37:19.368Z"
   },
   {
    "duration": 31,
    "start_time": "2021-10-28T08:37:19.917Z"
   },
   {
    "duration": 6,
    "start_time": "2021-10-28T08:37:19.952Z"
   },
   {
    "duration": 6,
    "start_time": "2021-10-28T08:37:19.959Z"
   },
   {
    "duration": 415,
    "start_time": "2021-10-28T08:37:19.966Z"
   },
   {
    "duration": 9,
    "start_time": "2021-10-28T08:37:20.383Z"
   },
   {
    "duration": 3,
    "start_time": "2021-10-28T08:37:20.394Z"
   },
   {
    "duration": 5,
    "start_time": "2021-10-28T08:37:20.399Z"
   },
   {
    "duration": 7,
    "start_time": "2021-10-28T08:37:20.405Z"
   },
   {
    "duration": 7,
    "start_time": "2021-10-28T08:37:20.413Z"
   },
   {
    "duration": 13,
    "start_time": "2021-10-28T08:37:20.421Z"
   },
   {
    "duration": 8,
    "start_time": "2021-10-28T08:37:20.435Z"
   },
   {
    "duration": 6,
    "start_time": "2021-10-28T08:37:20.445Z"
   },
   {
    "duration": 44,
    "start_time": "2021-10-28T08:37:20.453Z"
   },
   {
    "duration": 322,
    "start_time": "2021-10-28T08:37:20.498Z"
   },
   {
    "duration": 537,
    "start_time": "2021-10-28T08:37:50.501Z"
   },
   {
    "duration": 31,
    "start_time": "2021-10-28T08:37:51.040Z"
   },
   {
    "duration": 6,
    "start_time": "2021-10-28T08:37:51.073Z"
   },
   {
    "duration": 11,
    "start_time": "2021-10-28T08:37:51.080Z"
   },
   {
    "duration": 394,
    "start_time": "2021-10-28T08:37:51.092Z"
   },
   {
    "duration": 5,
    "start_time": "2021-10-28T08:37:51.488Z"
   },
   {
    "duration": 8,
    "start_time": "2021-10-28T08:37:51.494Z"
   },
   {
    "duration": 6,
    "start_time": "2021-10-28T08:37:51.504Z"
   },
   {
    "duration": 9,
    "start_time": "2021-10-28T08:37:51.511Z"
   },
   {
    "duration": 5,
    "start_time": "2021-10-28T08:37:51.521Z"
   },
   {
    "duration": 8,
    "start_time": "2021-10-28T08:37:51.527Z"
   },
   {
    "duration": 10,
    "start_time": "2021-10-28T08:37:51.536Z"
   },
   {
    "duration": 7,
    "start_time": "2021-10-28T08:37:51.547Z"
   },
   {
    "duration": 37,
    "start_time": "2021-10-28T08:37:51.555Z"
   },
   {
    "duration": 51,
    "start_time": "2021-10-28T08:37:51.594Z"
   },
   {
    "duration": 6,
    "start_time": "2021-10-28T08:40:27.459Z"
   },
   {
    "duration": 7,
    "start_time": "2021-10-28T08:41:00.958Z"
   },
   {
    "duration": 6,
    "start_time": "2021-10-28T08:41:27.834Z"
   },
   {
    "duration": 51,
    "start_time": "2021-10-28T08:51:10.959Z"
   },
   {
    "duration": 259,
    "start_time": "2021-10-28T08:53:11.754Z"
   },
   {
    "duration": 1278,
    "start_time": "2021-10-28T08:53:56.032Z"
   },
   {
    "duration": 14,
    "start_time": "2021-10-28T08:59:40.942Z"
   },
   {
    "duration": 8,
    "start_time": "2021-10-28T09:04:19.612Z"
   },
   {
    "duration": 13,
    "start_time": "2021-10-28T09:05:58.173Z"
   },
   {
    "duration": 6,
    "start_time": "2021-10-28T09:06:26.181Z"
   },
   {
    "duration": 184,
    "start_time": "2021-10-28T09:06:57.269Z"
   },
   {
    "duration": 6,
    "start_time": "2021-10-28T09:07:07.805Z"
   },
   {
    "duration": 8,
    "start_time": "2021-10-28T09:30:54.679Z"
   },
   {
    "duration": 11,
    "start_time": "2021-10-28T09:31:24.009Z"
   },
   {
    "duration": 559,
    "start_time": "2021-10-28T09:58:43.170Z"
   },
   {
    "duration": 32,
    "start_time": "2021-10-28T09:58:43.731Z"
   },
   {
    "duration": 6,
    "start_time": "2021-10-28T09:58:43.765Z"
   },
   {
    "duration": 8,
    "start_time": "2021-10-28T09:58:43.773Z"
   },
   {
    "duration": 10,
    "start_time": "2021-10-28T09:58:43.782Z"
   },
   {
    "duration": 397,
    "start_time": "2021-10-28T09:58:43.794Z"
   },
   {
    "duration": 5,
    "start_time": "2021-10-28T09:58:44.193Z"
   },
   {
    "duration": 5,
    "start_time": "2021-10-28T09:58:44.201Z"
   },
   {
    "duration": 6,
    "start_time": "2021-10-28T09:58:44.207Z"
   },
   {
    "duration": 7,
    "start_time": "2021-10-28T09:58:44.214Z"
   },
   {
    "duration": 4,
    "start_time": "2021-10-28T09:58:44.223Z"
   },
   {
    "duration": 6,
    "start_time": "2021-10-28T09:58:44.229Z"
   },
   {
    "duration": 17,
    "start_time": "2021-10-28T09:58:44.236Z"
   },
   {
    "duration": 14,
    "start_time": "2021-10-28T09:58:44.254Z"
   },
   {
    "duration": 43,
    "start_time": "2021-10-28T09:58:44.269Z"
   },
   {
    "duration": 54,
    "start_time": "2021-10-28T09:58:44.313Z"
   },
   {
    "duration": 1281,
    "start_time": "2021-10-28T09:58:44.369Z"
   },
   {
    "duration": 15,
    "start_time": "2021-10-28T09:58:45.651Z"
   },
   {
    "duration": 26,
    "start_time": "2021-10-28T09:58:45.667Z"
   },
   {
    "duration": 4,
    "start_time": "2021-10-28T09:58:45.695Z"
   },
   {
    "duration": 7,
    "start_time": "2021-10-28T09:58:45.700Z"
   },
   {
    "duration": 11,
    "start_time": "2021-10-28T09:58:45.708Z"
   },
   {
    "duration": 772,
    "start_time": "2021-10-28T12:18:31.424Z"
   },
   {
    "duration": 47,
    "start_time": "2021-10-28T12:18:32.199Z"
   },
   {
    "duration": 10,
    "start_time": "2021-10-28T12:18:32.249Z"
   },
   {
    "duration": 8,
    "start_time": "2021-10-28T12:18:32.403Z"
   },
   {
    "duration": 5,
    "start_time": "2021-10-28T12:18:33.237Z"
   },
   {
    "duration": 560,
    "start_time": "2021-10-28T12:19:08.535Z"
   },
   {
    "duration": 8,
    "start_time": "2021-10-28T12:19:09.504Z"
   },
   {
    "duration": 6,
    "start_time": "2021-10-28T12:19:09.930Z"
   },
   {
    "duration": 5,
    "start_time": "2021-10-28T12:19:10.526Z"
   },
   {
    "duration": 7,
    "start_time": "2021-10-28T12:19:11.142Z"
   },
   {
    "duration": 4,
    "start_time": "2021-10-28T12:19:11.527Z"
   },
   {
    "duration": 7,
    "start_time": "2021-10-28T12:19:11.708Z"
   },
   {
    "duration": 6,
    "start_time": "2021-10-28T12:19:11.865Z"
   },
   {
    "duration": 6,
    "start_time": "2021-10-28T12:19:12.024Z"
   },
   {
    "duration": 47,
    "start_time": "2021-10-28T12:19:12.715Z"
   },
   {
    "duration": 86,
    "start_time": "2021-10-28T12:19:13.063Z"
   },
   {
    "duration": 2112,
    "start_time": "2021-10-28T12:19:13.534Z"
   },
   {
    "duration": 31,
    "start_time": "2021-10-28T12:19:15.650Z"
   },
   {
    "duration": 11,
    "start_time": "2021-10-28T12:19:15.701Z"
   },
   {
    "duration": 9,
    "start_time": "2021-10-28T12:19:15.715Z"
   },
   {
    "duration": 7,
    "start_time": "2021-10-28T12:19:15.726Z"
   },
   {
    "duration": 15,
    "start_time": "2021-10-28T12:19:15.736Z"
   },
   {
    "duration": 5,
    "start_time": "2021-10-28T12:20:02.097Z"
   },
   {
    "duration": 4,
    "start_time": "2021-10-28T12:20:18.529Z"
   },
   {
    "duration": 5,
    "start_time": "2021-10-28T12:20:29.397Z"
   },
   {
    "duration": 9,
    "start_time": "2021-10-28T12:22:41.574Z"
   },
   {
    "duration": 692,
    "start_time": "2021-10-28T14:20:18.660Z"
   },
   {
    "duration": 33,
    "start_time": "2021-10-28T14:20:19.354Z"
   },
   {
    "duration": 6,
    "start_time": "2021-10-28T14:20:19.389Z"
   },
   {
    "duration": 7,
    "start_time": "2021-10-28T14:20:19.397Z"
   },
   {
    "duration": 4,
    "start_time": "2021-10-28T14:20:19.406Z"
   },
   {
    "duration": 12,
    "start_time": "2021-10-28T14:20:19.412Z"
   },
   {
    "duration": 476,
    "start_time": "2021-10-28T14:20:19.426Z"
   },
   {
    "duration": 7,
    "start_time": "2021-10-28T14:20:19.905Z"
   },
   {
    "duration": 4,
    "start_time": "2021-10-28T14:20:19.915Z"
   },
   {
    "duration": 5,
    "start_time": "2021-10-28T14:20:19.921Z"
   },
   {
    "duration": 7,
    "start_time": "2021-10-28T14:20:19.928Z"
   },
   {
    "duration": 5,
    "start_time": "2021-10-28T14:20:19.936Z"
   },
   {
    "duration": 36,
    "start_time": "2021-10-28T14:20:19.942Z"
   },
   {
    "duration": 6,
    "start_time": "2021-10-28T14:20:19.979Z"
   },
   {
    "duration": 10,
    "start_time": "2021-10-28T14:20:19.987Z"
   },
   {
    "duration": 9,
    "start_time": "2021-10-28T14:20:19.999Z"
   },
   {
    "duration": 9,
    "start_time": "2021-10-28T14:20:20.009Z"
   },
   {
    "duration": 37,
    "start_time": "2021-10-28T14:20:20.019Z"
   },
   {
    "duration": 66,
    "start_time": "2021-10-28T14:20:20.058Z"
   },
   {
    "duration": 1487,
    "start_time": "2021-10-28T14:20:20.125Z"
   },
   {
    "duration": 18,
    "start_time": "2021-10-28T14:20:21.614Z"
   },
   {
    "duration": 7,
    "start_time": "2021-10-28T14:20:21.633Z"
   },
   {
    "duration": 5,
    "start_time": "2021-10-28T14:20:21.644Z"
   },
   {
    "duration": 6,
    "start_time": "2021-10-28T14:20:21.677Z"
   },
   {
    "duration": 12,
    "start_time": "2021-10-28T14:20:21.684Z"
   },
   {
    "duration": 513,
    "start_time": "2021-10-28T14:24:04.434Z"
   },
   {
    "duration": 324,
    "start_time": "2021-10-28T14:24:23.229Z"
   },
   {
    "duration": 639,
    "start_time": "2021-10-28T14:27:21.279Z"
   },
   {
    "duration": 34,
    "start_time": "2021-10-28T14:27:21.920Z"
   },
   {
    "duration": 7,
    "start_time": "2021-10-28T14:27:21.957Z"
   },
   {
    "duration": 14,
    "start_time": "2021-10-28T14:27:21.966Z"
   },
   {
    "duration": 3,
    "start_time": "2021-10-28T14:27:21.982Z"
   },
   {
    "duration": 12,
    "start_time": "2021-10-28T14:27:21.987Z"
   },
   {
    "duration": 421,
    "start_time": "2021-10-28T14:27:22.001Z"
   },
   {
    "duration": 4,
    "start_time": "2021-10-28T14:27:22.426Z"
   },
   {
    "duration": 505,
    "start_time": "2021-10-28T14:27:22.433Z"
   },
   {
    "duration": 6,
    "start_time": "2021-10-28T14:27:22.940Z"
   },
   {
    "duration": 8,
    "start_time": "2021-10-28T14:27:22.948Z"
   },
   {
    "duration": 20,
    "start_time": "2021-10-28T14:27:22.958Z"
   },
   {
    "duration": 6,
    "start_time": "2021-10-28T14:27:22.980Z"
   },
   {
    "duration": 7,
    "start_time": "2021-10-28T14:27:22.987Z"
   },
   {
    "duration": 5,
    "start_time": "2021-10-28T14:27:22.995Z"
   },
   {
    "duration": 4,
    "start_time": "2021-10-28T14:27:23.001Z"
   },
   {
    "duration": 7,
    "start_time": "2021-10-28T14:27:23.007Z"
   },
   {
    "duration": 12,
    "start_time": "2021-10-28T14:27:23.015Z"
   },
   {
    "duration": 8,
    "start_time": "2021-10-28T14:27:23.029Z"
   },
   {
    "duration": 57,
    "start_time": "2021-10-28T14:27:23.039Z"
   },
   {
    "duration": 52,
    "start_time": "2021-10-28T14:27:23.098Z"
   },
   {
    "duration": 1206,
    "start_time": "2021-10-28T14:27:23.151Z"
   },
   {
    "duration": 21,
    "start_time": "2021-10-28T14:27:24.360Z"
   },
   {
    "duration": 6,
    "start_time": "2021-10-28T14:27:24.383Z"
   },
   {
    "duration": 6,
    "start_time": "2021-10-28T14:27:24.391Z"
   },
   {
    "duration": 5,
    "start_time": "2021-10-28T14:27:24.398Z"
   },
   {
    "duration": 11,
    "start_time": "2021-10-28T14:27:24.405Z"
   },
   {
    "duration": 764,
    "start_time": "2021-10-28T16:26:03.347Z"
   },
   {
    "duration": 70,
    "start_time": "2021-10-28T16:26:04.129Z"
   },
   {
    "duration": 22,
    "start_time": "2021-10-28T16:26:04.204Z"
   },
   {
    "duration": 10,
    "start_time": "2021-10-28T16:26:04.229Z"
   },
   {
    "duration": 14,
    "start_time": "2021-10-28T16:26:04.242Z"
   },
   {
    "duration": 27,
    "start_time": "2021-10-28T16:26:04.258Z"
   },
   {
    "duration": 417,
    "start_time": "2021-10-28T16:26:04.289Z"
   },
   {
    "duration": 5,
    "start_time": "2021-10-28T16:26:04.708Z"
   },
   {
    "duration": 518,
    "start_time": "2021-10-28T16:26:04.715Z"
   },
   {
    "duration": 7,
    "start_time": "2021-10-28T16:26:05.235Z"
   },
   {
    "duration": 6,
    "start_time": "2021-10-28T16:26:05.244Z"
   },
   {
    "duration": 8,
    "start_time": "2021-10-28T16:26:05.252Z"
   },
   {
    "duration": 17,
    "start_time": "2021-10-28T16:26:05.262Z"
   },
   {
    "duration": 5,
    "start_time": "2021-10-28T16:26:05.281Z"
   },
   {
    "duration": 5,
    "start_time": "2021-10-28T16:26:05.288Z"
   },
   {
    "duration": 4,
    "start_time": "2021-10-28T16:26:05.295Z"
   },
   {
    "duration": 7,
    "start_time": "2021-10-28T16:26:05.301Z"
   },
   {
    "duration": 7,
    "start_time": "2021-10-28T16:26:05.309Z"
   },
   {
    "duration": 7,
    "start_time": "2021-10-28T16:26:05.317Z"
   },
   {
    "duration": 73,
    "start_time": "2021-10-28T16:26:05.326Z"
   },
   {
    "duration": 51,
    "start_time": "2021-10-28T16:26:05.401Z"
   },
   {
    "duration": 1324,
    "start_time": "2021-10-28T16:26:05.455Z"
   },
   {
    "duration": 16,
    "start_time": "2021-10-28T16:26:06.782Z"
   },
   {
    "duration": 8,
    "start_time": "2021-10-28T16:26:06.801Z"
   },
   {
    "duration": 7,
    "start_time": "2021-10-28T16:26:06.811Z"
   },
   {
    "duration": 7,
    "start_time": "2021-10-28T16:26:06.820Z"
   },
   {
    "duration": 49,
    "start_time": "2021-10-28T16:26:06.829Z"
   }
  ],
  "kernelspec": {
   "display_name": "Python 3",
   "language": "python",
   "name": "python3"
  },
  "language_info": {
   "codemirror_mode": {
    "name": "ipython",
    "version": 3
   },
   "file_extension": ".py",
   "mimetype": "text/x-python",
   "name": "python",
   "nbconvert_exporter": "python",
   "pygments_lexer": "ipython3",
   "version": "3.8.8"
  },
  "toc": {
   "base_numbering": 1,
   "nav_menu": {},
   "number_sections": true,
   "sideBar": true,
   "skip_h1_title": true,
   "title_cell": "Table of Contents",
   "title_sidebar": "Contents",
   "toc_cell": false,
   "toc_position": {},
   "toc_section_display": true,
   "toc_window_display": false
  }
 },
 "nbformat": 4,
 "nbformat_minor": 2
}
